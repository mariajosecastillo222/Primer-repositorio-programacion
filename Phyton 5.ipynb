{
 "cells": [
  {
   "cell_type": "markdown",
   "id": "0530bdb0",
   "metadata": {},
   "source": [
    "Función"
   ]
  },
  {
   "cell_type": "code",
   "execution_count": 3,
   "id": "3b87fcbe",
   "metadata": {},
   "outputs": [
    {
     "data": {
      "text/plain": [
       "2"
      ]
     },
     "execution_count": 3,
     "metadata": {},
     "output_type": "execute_result"
    }
   ],
   "source": [
    "def mcd(a,b):\n",
    "    resto = 0\n",
    "    while(b > 0):\n",
    "        resto = b\n",
    "        b = a % b\n",
    "        a = resto\n",
    "    return a\n",
    "\n",
    "mcd(30,44)"
   ]
  },
  {
   "cell_type": "code",
   "execution_count": 8,
   "id": "f2783678",
   "metadata": {},
   "outputs": [],
   "source": [
    "def mcd(a,b):\n",
    "    resto = 0\n",
    "    while(b > 0):\n",
    "        resto = b\n",
    "        b = a % b\n",
    "        a = resto\n",
    "    return a\n",
    "\n",
    "    mcd(30,44)\n",
    "\n",
    "def simp(c,d):\n",
    "    \n",
    "    f = c/d  \n",
    "    \n",
    "    return f/mcd(30,44) #simplificado\n",
    "    \n",
    "    simp(30,44)"
   ]
  },
  {
   "cell_type": "markdown",
   "id": "aa816325",
   "metadata": {},
   "source": [
    "# ACTIVIDAD   \n",
    "\n",
    "###### nombre.py hace un text file ejecutable.\n",
    "\n",
    "###### María José Castillo"
   ]
  },
  {
   "cell_type": "code",
   "execution_count": 1,
   "id": "ae773ad6",
   "metadata": {},
   "outputs": [],
   "source": [
    "import nombre as np"
   ]
  },
  {
   "cell_type": "code",
   "execution_count": 3,
   "id": "3decf552",
   "metadata": {},
   "outputs": [
    {
     "data": {
      "text/plain": [
       "15"
      ]
     },
     "execution_count": 3,
     "metadata": {},
     "output_type": "execute_result"
    }
   ],
   "source": [
    "np.suma(7,8)"
   ]
  },
  {
   "cell_type": "code",
   "execution_count": 2,
   "id": "10e070c8",
   "metadata": {},
   "outputs": [
    {
     "name": "stdout",
     "output_type": "stream",
     "text": [
      "La resta entre 2 y 3 es:\n"
     ]
    },
    {
     "data": {
      "text/plain": [
       "-1"
      ]
     },
     "execution_count": 2,
     "metadata": {},
     "output_type": "execute_result"
    }
   ],
   "source": [
    "np.resta(2,3)"
   ]
  },
  {
   "cell_type": "code",
   "execution_count": 4,
   "id": "5a85e07a",
   "metadata": {
    "scrolled": true
   },
   "outputs": [
    {
     "data": {
      "text/plain": [
       "18"
      ]
     },
     "execution_count": 4,
     "metadata": {},
     "output_type": "execute_result"
    }
   ],
   "source": [
    "np.producto(6,3)"
   ]
  },
  {
   "cell_type": "code",
   "execution_count": 3,
   "id": "1ab0a913",
   "metadata": {},
   "outputs": [
    {
     "data": {
      "text/plain": [
       "6"
      ]
     },
     "execution_count": 3,
     "metadata": {},
     "output_type": "execute_result"
    }
   ],
   "source": [
    "np.mcd(54,6)"
   ]
  },
  {
   "cell_type": "code",
   "execution_count": 4,
   "id": "e5352f12",
   "metadata": {},
   "outputs": [
    {
     "data": {
      "text/plain": [
       "'9/1'"
      ]
     },
     "execution_count": 4,
     "metadata": {},
     "output_type": "execute_result"
    }
   ],
   "source": [
    "np.fracciones(54,6)"
   ]
  },
  {
   "cell_type": "code",
   "execution_count": 3,
   "id": "00c14614",
   "metadata": {},
   "outputs": [
    {
     "name": "stdout",
     "output_type": "stream",
     "text": [
      "La suma entre 2/4 y 5/8 es:\n"
     ]
    },
    {
     "data": {
      "text/plain": [
       "'36/32'"
      ]
     },
     "execution_count": 3,
     "metadata": {},
     "output_type": "execute_result"
    }
   ],
   "source": [
    "np.suma_fracciones(2,4,5,8)"
   ]
  },
  {
   "cell_type": "code",
   "execution_count": 4,
   "id": "345d62ae",
   "metadata": {},
   "outputs": [
    {
     "name": "stdout",
     "output_type": "stream",
     "text": [
      "La resta entre 3/7 y 8/2 es:\n"
     ]
    },
    {
     "data": {
      "text/plain": [
       "'-50/14'"
      ]
     },
     "execution_count": 4,
     "metadata": {},
     "output_type": "execute_result"
    }
   ],
   "source": [
    "np.resta_fracciones(3,7,8,2)"
   ]
  },
  {
   "cell_type": "code",
   "execution_count": 5,
   "id": "9684287a",
   "metadata": {},
   "outputs": [
    {
     "name": "stdout",
     "output_type": "stream",
     "text": [
      "La división entre 3/6 y 7/8 es:\n"
     ]
    },
    {
     "data": {
      "text/plain": [
       "'24/42'"
      ]
     },
     "execution_count": 5,
     "metadata": {},
     "output_type": "execute_result"
    }
   ],
   "source": [
    "np.divi_fracciones(3,6,7,8)"
   ]
  },
  {
   "cell_type": "code",
   "execution_count": 6,
   "id": "056a397a",
   "metadata": {},
   "outputs": [
    {
     "name": "stdout",
     "output_type": "stream",
     "text": [
      "La multiplicación entre 3/2 y 5/4 es:\n"
     ]
    },
    {
     "data": {
      "text/plain": [
       "'15/8'"
      ]
     },
     "execution_count": 6,
     "metadata": {},
     "output_type": "execute_result"
    }
   ],
   "source": [
    "np.multi_fracciones(3,2,5,4)"
   ]
  }
 ],
 "metadata": {
  "kernelspec": {
   "display_name": "Python 3 (ipykernel)",
   "language": "python",
   "name": "python3"
  },
  "language_info": {
   "codemirror_mode": {
    "name": "ipython",
    "version": 3
   },
   "file_extension": ".py",
   "mimetype": "text/x-python",
   "name": "python",
   "nbconvert_exporter": "python",
   "pygments_lexer": "ipython3",
   "version": "3.9.7"
  }
 },
 "nbformat": 4,
 "nbformat_minor": 5
}
