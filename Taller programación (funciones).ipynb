{
 "cells": [
  {
   "cell_type": "markdown",
   "id": "d77b5723",
   "metadata": {},
   "source": [
    "##### María José Castillo\n",
    " \n",
    " \n",
    " **Cree las siguientes funciones, con su debida documentación:**\n",
    "\n",
    "1. Cree una función que regrese como resultado el nombre de un restaurante y su NIT en una cadena de caracteres, pueden ser ficticios.\n",
    "2. Si en dicho restaurante cada persona consume en promedio 50.000, haga una función que permira calcular el valor de la cuenta, en promedio, dado el número de comensales.\n",
    "3. En el total calculado en el punto anterior se incluye el impuesto al consumo, cree una función que le permita conocer el valor que debería pagar sin dicho impuesto el cual asciende al $8\\%$.\n",
    "4. Una función que tenga como argumentos de entrada nombre de una persona y cantidad de comensales, la función debe tener como respuesta un \"recibo\" en el que aparezca el nombre del restaurante, su NIT, el nombre del cliente, el valor de la factura sin impuestos y con impuestos (sug: emplee como base las funciones creadas anteriormente).\n",
    "5. Una función que permita calcular el máximo entre dos números.\n",
    "6. Una función que ordene de menor a mayor tres números.\n",
    "7. Una función que dadas 5 notas de un estudiante, le permitan calcular la definitiva de la materia (nota 1: 10%, nota 2: 20%, nota 3: 30%, nota 4: 15%, nota 5: 25%) junto a un mensaje el cual resuma el desempeño del estudiante en el curso. (*Sug*: utilice los intervalos $0\\leq x<1,\\ 1\\leq x<2,\\ 2\\leq x<3,\\ 3\\leq x<4, 4\\leq x<4.5,\\ 4.5\\leq x\\leq5 $)"
   ]
  },
  {
   "cell_type": "markdown",
   "id": "c81f5b06",
   "metadata": {},
   "source": [
    "### RESULTADOS\n",
    "#### 1:"
   ]
  },
  {
   "cell_type": "code",
   "execution_count": 35,
   "id": "0240505e",
   "metadata": {},
   "outputs": [
    {
     "data": {
      "text/plain": [
       "('wok', 5647)"
      ]
     },
     "execution_count": 35,
     "metadata": {},
     "output_type": "execute_result"
    }
   ],
   "source": [
    "def restaurants(nombre, NIT):\n",
    "    n = nombre\n",
    "    nit = NIT \n",
    "    return n, nit\n",
    "\n",
    "restaurants(\"wok\",5647)"
   ]
  },
  {
   "cell_type": "code",
   "execution_count": 3,
   "id": "fc48d7a1",
   "metadata": {},
   "outputs": [
    {
     "data": {
      "text/plain": [
       "('wok', 5647)"
      ]
     },
     "execution_count": 3,
     "metadata": {},
     "output_type": "execute_result"
    }
   ],
   "source": [
    "def restaurants(nombre, NIT):\n",
    "    #n = nombre\n",
    "    #nit = NIT \n",
    "    #restaurante = nombre, nit\n",
    "    return nombre, NIT\n",
    "\n",
    "restaurants(\"wok\",5647)"
   ]
  },
  {
   "cell_type": "markdown",
   "id": "a4561269",
   "metadata": {},
   "source": [
    "#### 2:"
   ]
  },
  {
   "cell_type": "code",
   "execution_count": 14,
   "id": "e753cd9e",
   "metadata": {},
   "outputs": [
    {
     "data": {
      "text/plain": [
       "200000"
      ]
     },
     "execution_count": 14,
     "metadata": {},
     "output_type": "execute_result"
    }
   ],
   "source": [
    "def cuentaimp(comensales):\n",
    "    promedio = 50000\n",
    "    c = (promedio*comensales)\n",
    "    return c\n",
    "\n",
    "cuentaimp (4) "
   ]
  },
  {
   "cell_type": "markdown",
   "id": "86334d88",
   "metadata": {},
   "source": [
    "#### 3:"
   ]
  },
  {
   "cell_type": "code",
   "execution_count": 10,
   "id": "4cd36926",
   "metadata": {},
   "outputs": [
    {
     "name": "stdout",
     "output_type": "stream",
     "text": [
      "200000\n"
     ]
    },
    {
     "data": {
      "text/plain": [
       "185185.1851851852"
      ]
     },
     "execution_count": 10,
     "metadata": {},
     "output_type": "execute_result"
    }
   ],
   "source": [
    "#usando funciones creadas\n",
    "\n",
    "def cuenta_pro(comensales):\n",
    "    si = (cuentaimp(comensales)*100)/108\n",
    "    return si\n",
    "\n",
    "\n",
    "cuenta_pro(4)"
   ]
  },
  {
   "cell_type": "markdown",
   "id": "c36488f7",
   "metadata": {},
   "source": [
    "#### 4: "
   ]
  },
  {
   "cell_type": "code",
   "execution_count": 27,
   "id": "0c2e1531",
   "metadata": {},
   "outputs": [
    {
     "name": "stdout",
     "output_type": "stream",
     "text": [
      "************ RECIBO *************\n",
      "*********|('wok', 5647)|*********\n",
      "Nombre: María | Comensales: 4 \n",
      "*********************************\n",
      "Total a pagar: 185185.1851851852\n",
      "Total a pagar (impuestos incluidos): 200000\n",
      "\n"
     ]
    }
   ],
   "source": [
    "def table(nombrep,comensales):\n",
    "\n",
    "\n",
    "        print(f\"\"\"************ RECIBO *************\n",
    "*********|{restaurants(\"wok\",5647)}|*********\n",
    "Nombre: {nombrep} | Comensales: {comensales} \n",
    "*********************************\n",
    "Total a pagar: {cuenta_pro(comensales)}\n",
    "Total a pagar (impuestos incluidos): {cuentaimp(comensales)}\n",
    "\"\"\")\n",
    "\n",
    "table(\"María\",4)"
   ]
  },
  {
   "cell_type": "markdown",
   "id": "888a1b95",
   "metadata": {},
   "source": [
    "#### 5: "
   ]
  },
  {
   "cell_type": "code",
   "execution_count": 29,
   "id": "9a971c4c",
   "metadata": {},
   "outputs": [
    {
     "name": "stdout",
     "output_type": "stream",
     "text": [
      "El mayor es: 80\n"
     ]
    }
   ],
   "source": [
    "def máximo(a,b):\n",
    "    if a > b:\n",
    "        print('El mayor es:',a)  \n",
    "    else: \n",
    "        print('El menor es:',b)\n",
    "\n",
    "máximo (80,2)"
   ]
  },
  {
   "cell_type": "markdown",
   "id": "deae9d3a",
   "metadata": {},
   "source": [
    "#### 6:"
   ]
  },
  {
   "cell_type": "code",
   "execution_count": 31,
   "id": "606afe10",
   "metadata": {},
   "outputs": [
    {
     "name": "stdout",
     "output_type": "stream",
     "text": [
      "Ingrese el número 1: 80\n",
      "Ingrese el número 2: 55\n",
      "Ingrese el número 3: 2\n",
      "2.0\n",
      "55.0\n",
      "80.0\n"
     ]
    }
   ],
   "source": [
    "numeros = []\n",
    "contador = 1\n",
    "\n",
    "while len(numeros) < 3:\n",
    "    \n",
    "    cadena = input(\"Ingrese el número \" + str(contador) + \": \")\n",
    "\n",
    "    try:\n",
    "        numero = float(cadena)\n",
    "    \n",
    "        if numero in numeros:\n",
    "            print(\"El número ya existe\")\n",
    "        else:\n",
    "            \n",
    "            numeros.append(numero)\n",
    "        \n",
    "            contador = contador + 1\n",
    "    except:\n",
    "        print(\"Número no válido\")\n",
    "\n",
    "\n",
    "for i in numeros:\n",
    "    for x in range(len(numeros) - 1):\n",
    "        if numeros[x] > numeros[x+1]:\n",
    "            numeros[x], numeros[x+1] = numeros[x+1], numeros[x]\n",
    "\n",
    "for numero in numeros:\n",
    "    print(numero)\n"
   ]
  },
  {
   "cell_type": "markdown",
   "id": "fdead3ea",
   "metadata": {},
   "source": [
    "#### 7: "
   ]
  },
  {
   "cell_type": "code",
   "execution_count": 30,
   "id": "0057a6cf",
   "metadata": {},
   "outputs": [
    {
     "name": "stdout",
     "output_type": "stream",
     "text": [
      "Nombre completo: María José Castillo Silva\n",
      "Nombre de la materia 1: Cálculo\n",
      "Calificación 1 en Cálculo (10%): 100\n",
      "Calificación 2 en Cálculo (20%):80\n",
      "Calificación 3 en Cálculo (30%):50\n",
      "Calificación 4 en Cálculo (15%):98\n",
      "Calificación 5 en Cálculo (25%):81\n",
      "***** Resultados *****\n",
      "Estudiante: María José Castillo Silva | en Cálculo \n",
      "*******************************\n",
      "Desempeño: Usted tiene el promedio en 75.95\n",
      "\n",
      "Pasó el semestre, siga así.\n"
     ]
    }
   ],
   "source": [
    "MATERIAS = 1\n",
    "\n",
    "nombre = input(\"Nombre completo: \")\n",
    "\n",
    "contador = 1\n",
    "sumatoria = 0\n",
    "while contador <= MATERIAS:\n",
    "    nombre_materia = input(\"Nombre de la materia {}: \".format(contador))\n",
    "    calificacion_1= float(input(\"Calificación 1 en {} (10%): \".format(nombre_materia)))\n",
    "    calificacion_2= float(input(\"Calificación 2 en {} (20%):\".format(nombre_materia)))\n",
    "    calificacion_3= float(input(\"Calificación 3 en {} (30%):\".format(nombre_materia)))\n",
    "    calificacion_4= float(input(\"Calificación 4 en {} (15%):\".format(nombre_materia)))\n",
    "    calificacion_5= float(input(\"Calificación 5 en {} (25%):\".format(nombre_materia)))\n",
    "    \n",
    "\n",
    "    sumatoria = (sumatoria + (calificacion_1*0.1) + (calificacion_2*0.2) + (calificacion_3*0.3) + (calificacion_4*0.15) + (calificacion_5*0.25))\n",
    "    \n",
    "    contador = contador + 1\n",
    "\n",
    "\n",
    "promedio = sumatoria / MATERIAS\n",
    "\n",
    "\n",
    "print(\"\"\"***** Resultados *****\n",
    "Estudiante: {} | en {} \n",
    "*******************************\n",
    "Desempeño: Usted tiene el promedio en {}\n",
    "\"\"\".format(nombre, nombre_materia, promedio))\n",
    "    \n",
    "if promedio > 70:\n",
    "    print(\"Pasó el semestre, siga así.\")\n",
    "else: \n",
    "    print(\"No pasó el semestre venga a recuperación la próxima semana, no se rinda.\")"
   ]
  }
 ],
 "metadata": {
  "kernelspec": {
   "display_name": "Python 3 (ipykernel)",
   "language": "python",
   "name": "python3"
  },
  "language_info": {
   "codemirror_mode": {
    "name": "ipython",
    "version": 3
   },
   "file_extension": ".py",
   "mimetype": "text/x-python",
   "name": "python",
   "nbconvert_exporter": "python",
   "pygments_lexer": "ipython3",
   "version": "3.9.7"
  }
 },
 "nbformat": 4,
 "nbformat_minor": 5
}
